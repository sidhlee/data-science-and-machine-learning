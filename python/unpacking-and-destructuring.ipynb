{
 "cells": [
  {
   "cell_type": "markdown",
   "metadata": {},
   "source": [
    "# Unpacking (splatting) with * and **\n",
    "equivalent to the spreading & destructuring in JS"
   ]
  },
  {
   "cell_type": "code",
   "execution_count": 1,
   "metadata": {},
   "outputs": [],
   "source": [
    "start_end = {\n",
    "    \"start\": '2012-08-02',\n",
    "    \"end\": '2022-05-17'\n",
    "}"
   ]
  },
  {
   "cell_type": "code",
   "execution_count": 3,
   "metadata": {},
   "outputs": [],
   "source": [
    "def show_unpacked(*args, **kwargs):\n",
    "    print(args)\n",
    "    print(kwargs)"
   ]
  },
  {
   "cell_type": "code",
   "execution_count": 7,
   "metadata": {},
   "outputs": [
    {
     "name": "stdout",
     "output_type": "stream",
     "text": [
      "(1, 2, 3)\n",
      "{}\n",
      "(1, 2, 3)\n",
      "{}\n"
     ]
    }
   ],
   "source": [
    "# A single star is used to unpack sequences(iterables) into positional arguments\n",
    "show_unpacked(*[1, 2, 3])\n",
    "show_unpacked(*(1, 2, 3))"
   ]
  },
  {
   "cell_type": "code",
   "execution_count": 8,
   "metadata": {},
   "outputs": [
    {
     "name": "stdout",
     "output_type": "stream",
     "text": [
      "('start', 'end')\n",
      "{}\n"
     ]
    }
   ],
   "source": [
    "# A single star also unpacks a dict into a tuple of keys\n",
    "show_unpacked(*start_end)"
   ]
  },
  {
   "cell_type": "code",
   "execution_count": 11,
   "metadata": {},
   "outputs": [
    {
     "name": "stdout",
     "output_type": "stream",
     "text": [
      "0 1 [2, 3, 4, 5, 6, 7, 8, 9]\n"
     ]
    }
   ],
   "source": [
    "# You can also use a single star to destructure sequences\n",
    "(first, second, *rest) = (0, 1, 2, 3, 4, 5, 6, 7, 8, 9)\n",
    "print(first, second, rest)"
   ]
  },
  {
   "cell_type": "code",
   "execution_count": 12,
   "metadata": {},
   "outputs": [
    {
     "name": "stdout",
     "output_type": "stream",
     "text": [
      "()\n",
      "{'start': '2012-08-02', 'end': '2022-05-17'}\n"
     ]
    }
   ],
   "source": [
    "# The double stars unpack dictionary into keyword arguments\n",
    "show_unpacked(**start_end)"
   ]
  },
  {
   "cell_type": "code",
   "execution_count": 14,
   "metadata": {},
   "outputs": [
    {
     "name": "stdout",
     "output_type": "stream",
     "text": [
      "{'frequency': 'D', 'start': '2012-08-02', 'end': '2022-05-17'}\n"
     ]
    }
   ],
   "source": [
    "# you can also use a double star to spread dict into another dictionary\n",
    "print({\n",
    "    'frequency': 'D',\n",
    "    **start_end\n",
    "})"
   ]
  },
  {
   "cell_type": "code",
   "execution_count": null,
   "metadata": {},
   "outputs": [],
   "source": []
  }
 ],
 "metadata": {
  "interpreter": {
   "hash": "eafd42ff2ff12134746d0c31e1ab83a9e105c505a4bc5bfedfbc6ba6c2704be7"
  },
  "kernelspec": {
   "display_name": "Python 3.9.12 ('base')",
   "language": "python",
   "name": "python3"
  },
  "language_info": {
   "codemirror_mode": {
    "name": "ipython",
    "version": 3
   },
   "file_extension": ".py",
   "mimetype": "text/x-python",
   "name": "python",
   "nbconvert_exporter": "python",
   "pygments_lexer": "ipython3",
   "version": "3.9.12"
  },
  "orig_nbformat": 4
 },
 "nbformat": 4,
 "nbformat_minor": 2
}
